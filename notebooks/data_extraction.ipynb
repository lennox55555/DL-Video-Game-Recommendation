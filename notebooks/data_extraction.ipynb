{
 "cells": [
  {
   "cell_type": "markdown",
   "id": "aa11a297",
   "metadata": {},
   "source": [
    "## Experimentation and Data Extraction Notebook"
   ]
  },
  {
   "cell_type": "markdown",
   "id": "97f648a7",
   "metadata": {},
   "source": [
    "This notebook is used to extract the appropriate data to feed into the Neural Network (Hybrid model that uses NCF for collaborative filtering and content filtering)."
   ]
  },
  {
   "cell_type": "code",
   "execution_count": 1,
   "id": "42b891aa",
   "metadata": {},
   "outputs": [],
   "source": [
    "import pandas as pd\n",
    "import numpy as np"
   ]
  },
  {
   "cell_type": "code",
   "execution_count": 2,
   "id": "2591dc11",
   "metadata": {},
   "outputs": [
    {
     "name": "stderr",
     "output_type": "stream",
     "text": [
      "/var/folders/b7/2dqsctv50sbgk3bg9gpz453c0000gn/T/ipykernel_24432/3149372455.py:2: DtypeWarning: Columns (12) have mixed types. Specify dtype option on import or set low_memory=False.\n",
      "  df = pd.read_csv('../data/metacritic_user_data_full.csv')\n"
     ]
    }
   ],
   "source": [
    "# Load the dataset\n",
    "df = pd.read_csv('../data/metacritic_user_data_full.csv')"
   ]
  },
  {
   "cell_type": "code",
   "execution_count": 3,
   "id": "667a1283",
   "metadata": {},
   "outputs": [
    {
     "name": "stdout",
     "output_type": "stream",
     "text": [
      "         user_id             game_title  rating\n",
      "0           ZTGD  .hackG.U. Last Recode     8.5\n",
      "1        RPGamer  .hackG.U. Last Recode     8.0\n",
      "2   COGconnected  .hackG.U. Last Recode     7.5\n",
      "3  Worth Playing  .hackG.U. Last Recode     7.0\n",
      "4     CGMagazine  .hackG.U. Last Recode     7.0\n",
      "\n",
      "Dataset statistics:\n",
      "Number of records: 513250\n",
      "Number of unique users: 219209\n",
      "Number of unique games: 5445\n",
      "Rating range: 0.0 to 10.0\n",
      "Average rating: 2.03\n"
     ]
    }
   ],
   "source": [
    "# Create a new dataframe with the required columns\n",
    "new_df = pd.DataFrame({\n",
    "    'user_id': df['Reviewer Name'],\n",
    "    'game_title': df['Game Title'],\n",
    "    'rating': df['Rating Given By The Reviewer']\n",
    "})\n",
    "\n",
    "# Normalize the ratings to be between 0 and 10\n",
    "# First, we need to check what scale the original ratings are in\n",
    "# Based on the sample data, it seems ratings are on a 0-100 scale\n",
    "\n",
    "# Function to normalize ratings\n",
    "def normalize_rating(rating):\n",
    "    if pd.isna(rating):\n",
    "        return np.nan\n",
    "    \n",
    "    # Otherwise, normalize from 0-100 to 0-10\n",
    "    return rating / 10\n",
    "\n",
    "# Apply normalization\n",
    "new_df['rating'] = new_df['rating'].apply(normalize_rating)\n",
    "\n",
    "# Drop rows with missing ratings if needed\n",
    "# new_df = new_df.dropna(subset=['rating'])\n",
    "\n",
    "# Save to a new CSV file\n",
    "new_df.to_csv('../data/metacritic_user_data.csv', index=False)\n",
    "\n",
    "# Display the first few rows of the new dataframe\n",
    "print(new_df.head())\n",
    "\n",
    "# Provide some statistics\n",
    "print(\"\\nDataset statistics:\")\n",
    "print(f\"Number of records: {len(new_df)}\")\n",
    "print(f\"Number of unique users: {new_df['user_id'].nunique()}\")\n",
    "print(f\"Number of unique games: {new_df['game_title'].nunique()}\")\n",
    "print(f\"Rating range: {new_df['rating'].min()} to {new_df['rating'].max()}\")\n",
    "print(f\"Average rating: {new_df['rating'].mean():.2f}\")"
   ]
  },
  {
   "cell_type": "markdown",
   "id": "90419d99",
   "metadata": {},
   "source": []
  }
 ],
 "metadata": {
  "kernelspec": {
   "display_name": "venv",
   "language": "python",
   "name": "venv"
  },
  "language_info": {
   "codemirror_mode": {
    "name": "ipython",
    "version": 3
   },
   "file_extension": ".py",
   "mimetype": "text/x-python",
   "name": "python",
   "nbconvert_exporter": "python",
   "pygments_lexer": "ipython3",
   "version": "3.9.21"
  }
 },
 "nbformat": 4,
 "nbformat_minor": 5
}
